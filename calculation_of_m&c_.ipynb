{
  "cells": [
    {
      "cell_type": "markdown",
      "metadata": {
        "id": "view-in-github",
        "colab_type": "text"
      },
      "source": [
        "<a href=\"https://colab.research.google.com/github/Saurabhds24/Saurabhds24/blob/main/calculation_of_m%26c_.ipynb\" target=\"_parent\"><img src=\"https://colab.research.google.com/assets/colab-badge.svg\" alt=\"Open In Colab\"/></a>"
      ]
    },
    {
      "cell_type": "code",
      "execution_count": null,
      "id": "743f4e3e",
      "metadata": {
        "id": "743f4e3e"
      },
      "outputs": [],
      "source": [
        "import numpy as np"
      ]
    },
    {
      "cell_type": "code",
      "execution_count": null,
      "id": "b3b07b48",
      "metadata": {
        "id": "b3b07b48"
      },
      "outputs": [],
      "source": [
        "x=np.array([140,155,159,179,192,200,212])\n",
        "y=np.array([60,62,67,70,71,72,75])\n"
      ]
    },
    {
      "cell_type": "code",
      "execution_count": null,
      "id": "4544efef",
      "metadata": {
        "id": "4544efef",
        "outputId": "f7a5a822-77e5-48de-e8a5-edbc67e65794"
      },
      "outputs": [
        {
          "data": {
            "text/plain": [
              "1237"
            ]
          },
          "execution_count": 47,
          "metadata": {},
          "output_type": "execute_result"
        }
      ],
      "source": [
        "x1=np.sum(x)\n",
        "x1"
      ]
    },
    {
      "cell_type": "code",
      "execution_count": null,
      "id": "b3a1ad69",
      "metadata": {
        "id": "b3a1ad69",
        "outputId": "872f2707-4bb5-4ae8-b6dc-bb1fc4047b16"
      },
      "outputs": [
        {
          "data": {
            "text/plain": [
              "477"
            ]
          },
          "execution_count": 48,
          "metadata": {},
          "output_type": "execute_result"
        }
      ],
      "source": [
        "y1=np.sum(y)\n",
        "y1"
      ]
    },
    {
      "cell_type": "code",
      "execution_count": null,
      "id": "70615e79",
      "metadata": {
        "id": "70615e79",
        "outputId": "c0284e23-d406-43ed-f851-a77003381a94"
      },
      "outputs": [
        {
          "data": {
            "text/plain": [
              "array([19600, 24025, 25281, 32041, 36864, 40000, 44944], dtype=int32)"
            ]
          },
          "execution_count": 19,
          "metadata": {},
          "output_type": "execute_result"
        }
      ],
      "source": [
        "x2=x**2\n",
        "x2"
      ]
    },
    {
      "cell_type": "code",
      "execution_count": null,
      "id": "28df7508",
      "metadata": {
        "id": "28df7508",
        "outputId": "a11ebfdc-e67c-4e4d-d214-80200cc2f956"
      },
      "outputs": [
        {
          "data": {
            "text/plain": [
              "222755"
            ]
          },
          "execution_count": 20,
          "metadata": {},
          "output_type": "execute_result"
        }
      ],
      "source": [
        "sx2=np.sum(x2)\n",
        "sx2"
      ]
    },
    {
      "cell_type": "code",
      "execution_count": null,
      "id": "9c5ec7ee",
      "metadata": {
        "id": "9c5ec7ee",
        "outputId": "c92d7baf-c8f0-419f-b161-412af1640841"
      },
      "outputs": [
        {
          "data": {
            "text/plain": [
              "array([ 8400,  9610, 10653, 12530, 13632, 14400, 15900])"
            ]
          },
          "execution_count": 21,
          "metadata": {},
          "output_type": "execute_result"
        }
      ],
      "source": [
        "xy=x*y\n",
        "xy"
      ]
    },
    {
      "cell_type": "code",
      "execution_count": null,
      "id": "2c72e211",
      "metadata": {
        "id": "2c72e211",
        "outputId": "5390ee84-1498-4ea9-b928-cc387f5f5a93"
      },
      "outputs": [
        {
          "data": {
            "text/plain": [
              "85125"
            ]
          },
          "execution_count": 22,
          "metadata": {},
          "output_type": "execute_result"
        }
      ],
      "source": [
        "sxy=np.sum(xy)\n",
        "sxy"
      ]
    },
    {
      "cell_type": "code",
      "execution_count": null,
      "id": "3dc2ae1f",
      "metadata": {
        "id": "3dc2ae1f"
      },
      "outputs": [],
      "source": [
        "sx=np.sum(x)"
      ]
    },
    {
      "cell_type": "code",
      "execution_count": null,
      "id": "0812b0ee",
      "metadata": {
        "id": "0812b0ee",
        "outputId": "c0952d57-8090-4efe-e307-4c4ad01b8014"
      },
      "outputs": [
        {
          "data": {
            "text/plain": [
              "1237"
            ]
          },
          "execution_count": 24,
          "metadata": {},
          "output_type": "execute_result"
        }
      ],
      "source": [
        "sx"
      ]
    },
    {
      "cell_type": "code",
      "execution_count": null,
      "id": "61647535",
      "metadata": {
        "id": "61647535",
        "outputId": "2a2b9b38-032e-424b-a241-136939243bdd"
      },
      "outputs": [
        {
          "data": {
            "text/plain": [
              "1530169"
            ]
          },
          "execution_count": 25,
          "metadata": {},
          "output_type": "execute_result"
        }
      ],
      "source": [
        "sxs=sx*sx\n",
        "sxs"
      ]
    },
    {
      "cell_type": "code",
      "execution_count": null,
      "id": "7a13e6ae",
      "metadata": {
        "id": "7a13e6ae"
      },
      "outputs": [],
      "source": []
    },
    {
      "cell_type": "code",
      "execution_count": null,
      "id": "487eb13a",
      "metadata": {
        "id": "487eb13a"
      },
      "outputs": [],
      "source": [
        "def fun(x,y):\n",
        "    #m = [nsum(xy) -[sum(x).sum(y)]]/[n.(sum(x2))-(sumx)2]\n",
        "    m=((7*sxy)-(x1*y1))/(7*sx2-sxs)\n",
        "    #(sum(y)sum(x2))-sum(x)xum(x.y))/n(sum(x2)-(sum(x))2)\n",
        "    c=(y1*sx2-x1*sxy)/(7*sx2-sxs)\n",
        "    return m,c"
      ]
    },
    {
      "cell_type": "code",
      "execution_count": null,
      "id": "4ca37467",
      "metadata": {
        "id": "4ca37467",
        "outputId": "de2947a8-8b95-4321-9a96-ccc86269724a"
      },
      "outputs": [
        {
          "name": "stdout",
          "output_type": "stream",
          "text": [
            "0.20009616705591426 32.78300590740486\n"
          ]
        }
      ],
      "source": [
        "m,c=fun(x,y)\n",
        "print(m,c)"
      ]
    },
    {
      "cell_type": "code",
      "execution_count": null,
      "id": "8062a022",
      "metadata": {
        "id": "8062a022",
        "outputId": "d81e3871-9666-4eec-bc10-97df02bef9b9"
      },
      "outputs": [
        {
          "data": {
            "text/plain": [
              "78.80512433026514"
            ]
          },
          "execution_count": 66,
          "metadata": {},
          "output_type": "execute_result"
        }
      ],
      "source": [
        "xnew=230\n",
        "y=m*xnew+c\n",
        "y"
      ]
    },
    {
      "cell_type": "code",
      "execution_count": null,
      "id": "341340bb",
      "metadata": {
        "id": "341340bb"
      },
      "outputs": [],
      "source": []
    },
    {
      "cell_type": "code",
      "execution_count": null,
      "id": "5ab1e844",
      "metadata": {
        "id": "5ab1e844"
      },
      "outputs": [],
      "source": []
    },
    {
      "cell_type": "code",
      "execution_count": null,
      "id": "03a4d4df",
      "metadata": {
        "id": "03a4d4df"
      },
      "outputs": [],
      "source": []
    },
    {
      "cell_type": "code",
      "execution_count": null,
      "id": "2700b0f7",
      "metadata": {
        "id": "2700b0f7"
      },
      "outputs": [],
      "source": []
    },
    {
      "cell_type": "code",
      "execution_count": null,
      "id": "1819f704",
      "metadata": {
        "id": "1819f704"
      },
      "outputs": [],
      "source": []
    },
    {
      "cell_type": "code",
      "execution_count": null,
      "id": "6af68e3a",
      "metadata": {
        "id": "6af68e3a"
      },
      "outputs": [],
      "source": []
    }
  ],
  "metadata": {
    "kernelspec": {
      "display_name": "Python 3 (ipykernel)",
      "language": "python",
      "name": "python3"
    },
    "language_info": {
      "codemirror_mode": {
        "name": "ipython",
        "version": 3
      },
      "file_extension": ".py",
      "mimetype": "text/x-python",
      "name": "python",
      "nbconvert_exporter": "python",
      "pygments_lexer": "ipython3",
      "version": "3.9.13"
    },
    "colab": {
      "provenance": [],
      "include_colab_link": true
    }
  },
  "nbformat": 4,
  "nbformat_minor": 5
}